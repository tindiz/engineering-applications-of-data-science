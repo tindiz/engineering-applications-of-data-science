{
 "cells": [
  {
   "cell_type": "code",
   "execution_count": 1,
   "metadata": {},
   "outputs": [],
   "source": [
    "columns = [\"Lever position (lp)\",\"Ship speed (v) [knots]\",\n",
    "           \"Gas Turbine shaft torque (GTT) [kN m]\",\n",
    "           \"Gas Turbine rate of revolutions (GTn) [rpm]\",\n",
    "           \"Gas Generator rate of revolutions (GGn) [rpm]\",\n",
    "           \"Starboard Propeller Torque (Ts) [kN]\",\n",
    "           \"Port Propeller Torque (Tp) [kN]\",\n",
    "           \"HP Turbine exit temperature (T48) [C]\",\n",
    "           \"GT Compressor inlet air temperature (T1) [C]\",\n",
    "           \"GT Compressor outlet air temperature (T2) [C]\",\n",
    "           \"HP Turbine exit pressure (P48) [bar]\",\n",
    "           \"GT Compressor inlet air pressure (P1) [bar]\",\n",
    "           \"GT Compressor outlet air pressure (P2) [bar]\",\n",
    "           \"Gas Turbine exhaust gas pressure (Pexh) [bar]\",\n",
    "           \"Turbine Injecton Control (TIC) [%]\",\n",
    "           \"Fuel flow (mf) [kg/s]\",\n",
    "           \"GT Compressor decay state coefficient\",\n",
    "           \"GT Turbine decay state coefficient\"]"
   ]
  },
  {
   "cell_type": "code",
   "execution_count": null,
   "metadata": {},
   "outputs": [],
   "source": []
  }
 ],
 "metadata": {
  "kernelspec": {
   "display_name": "Python 3",
   "language": "python",
   "name": "python3"
  },
  "language_info": {
   "codemirror_mode": {
    "name": "ipython",
    "version": 3
   },
   "file_extension": ".py",
   "mimetype": "text/x-python",
   "name": "python",
   "nbconvert_exporter": "python",
   "pygments_lexer": "ipython3",
   "version": "3.9.1"
  }
 },
 "nbformat": 4,
 "nbformat_minor": 2
}
