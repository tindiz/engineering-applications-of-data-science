{
  "nbformat": 4,
  "nbformat_minor": 0,
  "metadata": {
    "colab": {
      "name": "ENGR301_Lab1_TinDizdarevic.ipynb",
      "provenance": [],
      "collapsed_sections": []
    },
    "kernelspec": {
      "name": "python3",
      "display_name": "Python 3"
    }
  },
  "cells": [
    {
      "cell_type": "markdown",
      "metadata": {
        "id": "r-RWWQ1nmyFo"
      },
      "source": [
        "Tin Dizdarevic\r\n",
        "\r\n",
        "UCID: 31509390\r\n",
        "\r\n",
        "ENGR 301 - Laboratory 1\r\n",
        "\r\n",
        "Topic: Environmental Engineering"
      ]
    },
    {
      "cell_type": "markdown",
      "metadata": {
        "id": "CvbDYlG0a2XC"
      },
      "source": [
        "## Part 1 - Basic Data Exploration"
      ]
    },
    {
      "cell_type": "markdown",
      "metadata": {
        "id": "__ZXQqZq8cSZ"
      },
      "source": [
        " ### 1.1"
      ]
    },
    {
      "cell_type": "code",
      "metadata": {
        "id": "_VW4foZVaoFJ"
      },
      "source": [
        "# 1. importing appropriate packages\r\n",
        "import numpy as np \r\n",
        "import pandas as pd\r\n",
        "import matplotlib.pyplot as plt"
      ],
      "execution_count": 54,
      "outputs": []
    },
    {
      "cell_type": "markdown",
      "metadata": {
        "id": "gsa3fRbs8gVo"
      },
      "source": [
        " ### 1.2"
      ]
    },
    {
      "cell_type": "code",
      "metadata": {
        "id": "dK1m0cFwaoPO",
        "colab": {
          "base_uri": "https://localhost:8080/"
        },
        "outputId": "4e6cd7e1-c32f-4e8d-d87f-54b45a30e971"
      },
      "source": [
        "# 2. importing data\r\n",
        "df = pd.read_csv('/content/turbines.csv')\r\n",
        "\r\n",
        "# number of measurments -> number of rows\r\n",
        "# 50530 measurements\r\n",
        "measurments = len(df.index)\r\n",
        "measurments"
      ],
      "execution_count": 55,
      "outputs": [
        {
          "output_type": "execute_result",
          "data": {
            "text/plain": [
              "50530"
            ]
          },
          "metadata": {
            "tags": []
          },
          "execution_count": 55
        }
      ]
    },
    {
      "cell_type": "markdown",
      "metadata": {
        "id": "Bh-BPjikNl_z"
      },
      "source": [
        "There are 50530 measurements in this data set. "
      ]
    },
    {
      "cell_type": "code",
      "metadata": {
        "colab": {
          "base_uri": "https://localhost:8080/"
        },
        "id": "r_E5Syd9Bd1B",
        "outputId": "b27fa897-3eae-4812-e1f9-2fb690a7bb52"
      },
      "source": [
        "# get the name of the columns for further analasys\r\n",
        "df.columns"
      ],
      "execution_count": 56,
      "outputs": [
        {
          "output_type": "execute_result",
          "data": {
            "text/plain": [
              "Index(['Observation Number', 'Date/Time', 'LV ActivePower (kW)',\n",
              "       'Wind Speed (m/s)', 'Theoretical_Power_Curve (KWh)',\n",
              "       'Wind Direction (°)'],\n",
              "      dtype='object')"
            ]
          },
          "metadata": {
            "tags": []
          },
          "execution_count": 56
        }
      ]
    },
    {
      "cell_type": "markdown",
      "metadata": {
        "id": "8paI2Ej4NfdT"
      },
      "source": [
        "### 1.3"
      ]
    },
    {
      "cell_type": "code",
      "metadata": {
        "id": "VVSR6ddAdJdV",
        "colab": {
          "base_uri": "https://localhost:8080/"
        },
        "outputId": "465d00f3-cf20-4e52-871d-2468befbd2fb"
      },
      "source": [
        "# LV ActivePower (kW)\r\n",
        "maxActivePower = df['LV ActivePower (kW)'].max()\r\n",
        "minActivePower = df['LV ActivePower (kW)'].min()\r\n",
        "meanActivePower = df['LV ActivePower (kW)'].mean()\r\n",
        "medianActivePower = df['LV ActivePower (kW)'].median()\r\n",
        "stdActivePower = df['LV ActivePower (kW)'].std()\r\n",
        "\r\n",
        "print(\"Maximum active power is: \" + str(maxActivePower))\r\n",
        "print(\"Minimum active power is: \" + str(minActivePower))\r\n",
        "print(\"Mean of the active power measurements is: \" \r\n",
        "      + str(meanActivePower))\r\n",
        "print(\"Median of the active power measurements is: \" \r\n",
        "      + str(medianActivePower))\r\n",
        "print(\"Standard deviation of the active power measurements is: \" \r\n",
        "      + str(stdActivePower))\r\n",
        "print('\\n')\r\n",
        "\r\n",
        "\r\n",
        "# Wind Speed (m/s)\r\n",
        "maxWindSpeed = df['Wind Speed (m/s)'].max()\r\n",
        "minWindSpeed = df['Wind Speed (m/s)'].min()\r\n",
        "meanWindSpeed = df['Wind Speed (m/s)'].mean()\r\n",
        "medianWindSpeed = df['Wind Speed (m/s)'].median()\r\n",
        "stdWindSpeed = df['Wind Speed (m/s)'].std()\r\n",
        "\r\n",
        "print(\"Maximum wind speed is: \" + str(maxWindSpeed))\r\n",
        "print(\"Minimum wind speed is: \" + str(minWindSpeed))\r\n",
        "print(\"Mean of the wind speed measurements is: \" \r\n",
        "      + str(meanWindSpeed))\r\n",
        "print(\"Median of the wind speed measurements is: \" \r\n",
        "      + str(medianWindSpeed))\r\n",
        "print(\"Standard deviation of the wind speed measurements is: \" \r\n",
        "      + str(stdWindSpeed))\r\n",
        "print('\\n')\r\n",
        "\r\n",
        "\r\n",
        "# Theoretical_Power_Curve (KWh)\r\n",
        "maxTheoreticalPower = df['Theoretical_Power_Curve (KWh)'].max()\r\n",
        "minTheoreticalPower = df['Theoretical_Power_Curve (KWh)'].min()\r\n",
        "meanTheoreticalPower = df['Theoretical_Power_Curve (KWh)'].mean()\r\n",
        "medianTheoreticalPower = df['Theoretical_Power_Curve (KWh)'].median()\r\n",
        "stdTheoreticalPower = df['Theoretical_Power_Curve (KWh)'].std()\r\n",
        "\r\n",
        "print(\"Maximum theoretical power is: \" + str(maxTheoreticalPower))\r\n",
        "print(\"Minimum theoretical power is: \" + str(minTheoreticalPower))\r\n",
        "print(\"Mean of the theoretical power measurements is: \" \r\n",
        "      + str(meanTheoreticalPower))\r\n",
        "print(\"Median of the theoretical power measurements is: \" \r\n",
        "      + str(medianTheoreticalPower))\r\n",
        "print(\"Standard deviation of the theoretical power measurements is: \" \r\n",
        "      + str(stdTheoreticalPower))\r\n",
        "print('\\n')\r\n",
        "\r\n",
        "\r\n",
        "# Wind Direction (°)\r\n",
        "maxWindDirection = df['Wind Direction (°)'].max()\r\n",
        "minWindDirection = df['Wind Direction (°)'].min()\r\n",
        "meanWindDirection = df['Wind Direction (°)'].mean()\r\n",
        "medianWindDirection = df['Wind Direction (°)'].median()\r\n",
        "stdWindDirection = df['Wind Direction (°)'].std()\r\n",
        "\r\n",
        "print(\"Maximum wind direction angle is: \" + str(maxWindDirection))\r\n",
        "print(\"Minimum wind direction angle is: \" + str(minWindDirection))\r\n",
        "print(\"Mean of the wind direction angle measurements is: \" \r\n",
        "      + str(meanWindDirection))\r\n",
        "print(\"Median of the wind direction angle measurements is: \" \r\n",
        "      + str(medianWindDirection))\r\n",
        "print(\"Standard deviation of the wind direction angle measurements is: \" \r\n",
        "      + str(stdWindDirection))"
      ],
      "execution_count": 57,
      "outputs": [
        {
          "output_type": "stream",
          "text": [
            "Maximum active power is: 3618.73291\n",
            "Minimum active power is: -2.471405029\n",
            "Mean of the active power measurements is: 1307.6843318813828\n",
            "Median of the active power measurements is: 825.8380737499999\n",
            "Standard deviation of the active power measurements is: 1312.4592421290968\n",
            "\n",
            "\n",
            "Maximum wind speed is: 25.20601082\n",
            "Minimum wind speed is: 0.0\n",
            "Mean of the wind speed measurements is: 7.557952236084344\n",
            "Median of the wind speed measurements is: 7.1045935149999995\n",
            "Standard deviation of the wind speed measurements is: 4.227166055607975\n",
            "\n",
            "\n",
            "Maximum theoretical power is: 3600.0\n",
            "Minimum theoretical power is: 0.0\n",
            "Mean of the theoretical power measurements is: 1492.1754629581606\n",
            "Median of the theoretical power measurements is: 1063.7762825\n",
            "Standard deviation of the theoretical power measurements is: 1368.0182378733775\n",
            "\n",
            "\n",
            "Maximum wind direction angle is: 359.9975891\n",
            "Minimum wind direction angle is: 0.0\n",
            "Mean of the wind direction angle measurements is: 123.68755850949643\n",
            "Median of the wind direction angle measurements is: 73.71297836\n",
            "Standard deviation of the wind direction angle measurements is: 93.44373572786594\n"
          ],
          "name": "stdout"
        }
      ]
    },
    {
      "cell_type": "code",
      "metadata": {
        "colab": {
          "base_uri": "https://localhost:8080/"
        },
        "id": "4FTc2z_GfePL",
        "outputId": "dc9b5126-b80e-433d-bdd6-9c73f9aaf3e7"
      },
      "source": [
        "# mean and median comparison script\r\n",
        "def compareMeanAndMedian(mean, median):\r\n",
        "  difference = mean - median\r\n",
        "  if (mean > median):\r\n",
        "    if (difference > mean * 1.10 - mean):\r\n",
        "      return (\"significantly different\")\r\n",
        "  else:\r\n",
        "    if (abs(difference) > median * 1.10 - median):\r\n",
        "      return (\"significantly different\")\r\n",
        "  return (\"not significantly different\")\r\n",
        "  \r\n",
        "# LV ActivePower (kW)\r\n",
        "print(\"LV ActivePower (kW) mean and median are \" + compareMeanAndMedian(meanActivePower, \r\n",
        "                                                    medianActivePower))\r\n",
        "\r\n",
        "# Wind Speed (m/s)\r\n",
        "print(\"Wind Speed (m/s) mean and median are \" + compareMeanAndMedian(meanWindSpeed, \r\n",
        "                                                    medianWindSpeed))\r\n",
        "\r\n",
        "# Theoretical_Power_Curve (KWh)\r\n",
        "print(\"Theoretical_Power_Curve (KWh) mean and median are \" + compareMeanAndMedian(meanTheoreticalPower, \r\n",
        "                                                    medianTheoreticalPower))\r\n",
        "\r\n",
        "# Wind Direction (°)\r\n",
        "print(\"Wind Direction (°) mean and median are \" + compareMeanAndMedian(meanWindDirection, \r\n",
        "                                                    medianWindDirection))"
      ],
      "execution_count": 58,
      "outputs": [
        {
          "output_type": "stream",
          "text": [
            "LV ActivePower (kW) mean and median are significantly different\n",
            "Wind Speed (m/s) mean and median are not significantly different\n",
            "Theoretical_Power_Curve (KWh) mean and median are significantly different\n",
            "Wind Direction (°) mean and median are significantly different\n"
          ],
          "name": "stdout"
        }
      ]
    },
    {
      "cell_type": "code",
      "metadata": {
        "colab": {
          "base_uri": "https://localhost:8080/",
          "height": 316
        },
        "id": "AxHArT6sMfn7",
        "outputId": "7713d0a8-1ec6-4cab-9fa5-e2c48adbf45f"
      },
      "source": [
        "df.hist('LV ActivePower (kW)', bins=50)"
      ],
      "execution_count": 59,
      "outputs": [
        {
          "output_type": "execute_result",
          "data": {
            "text/plain": [
              "array([[<matplotlib.axes._subplots.AxesSubplot object at 0x7f15a5a2bb00>]],\n",
              "      dtype=object)"
            ]
          },
          "metadata": {
            "tags": []
          },
          "execution_count": 59
        },
        {
          "output_type": "display_data",
          "data": {
            "image/png": "[encoded data removed]",
            "text/plain": [
              "<Figure size 432x288 with 1 Axes>"
            ]
          },
          "metadata": {
            "tags": [],
            "needs_background": "light"
          }
        }
      ]
    },
    {
      "cell_type": "code",
      "metadata": {
        "colab": {
          "base_uri": "https://localhost:8080/",
          "height": 316
        },
        "id": "HzxF_Fi4nPRm",
        "outputId": "d7398e4b-4864-48f8-f136-a762f7610693"
      },
      "source": [
        "# Wind speed histogram\r\n",
        "df.hist('Wind Speed (m/s)', bins=50)"
      ],
      "execution_count": 60,
      "outputs": [
        {
          "output_type": "execute_result",
          "data": {
            "text/plain": [
              "array([[<matplotlib.axes._subplots.AxesSubplot object at 0x7f15a62354a8>]],\n",
              "      dtype=object)"
            ]
          },
          "metadata": {
            "tags": []
          },
          "execution_count": 60
        },
        {
          "output_type": "display_data",
          "data": {
            "image/png": "[encoded data removed]",
            "text/plain": [
              "<Figure size 432x288 with 1 Axes>"
            ]
          },
          "metadata": {
            "tags": [],
            "needs_background": "light"
          }
        }
      ]
    },
    {
      "cell_type": "code",
      "metadata": {
        "id": "OVbx1wz4uVB9",
        "colab": {
          "base_uri": "https://localhost:8080/",
          "height": 316
        },
        "outputId": "a267e922-5132-4645-e2f4-50bd9684577b"
      },
      "source": [
        "# Theoretical Power histogram\r\n",
        "df.hist('Theoretical_Power_Curve (KWh)', bins = 50)"
      ],
      "execution_count": 61,
      "outputs": [
        {
          "output_type": "execute_result",
          "data": {
            "text/plain": [
              "array([[<matplotlib.axes._subplots.AxesSubplot object at 0x7f15a5a2b898>]],\n",
              "      dtype=object)"
            ]
          },
          "metadata": {
            "tags": []
          },
          "execution_count": 61
        },
        {
          "output_type": "display_data",
          "data": {
            "image/png": "[encoded data removed]",
            "text/plain": [
              "<Figure size 432x288 with 1 Axes>"
            ]
          },
          "metadata": {
            "tags": [],
            "needs_background": "light"
          }
        }
      ]
    },
    {
      "cell_type": "code",
      "metadata": {
        "colab": {
          "base_uri": "https://localhost:8080/",
          "height": 316
        },
        "id": "-yBR_yTvMmtz",
        "outputId": "4292627e-3e96-42f0-c5d3-0aa69de7f666"
      },
      "source": [
        "df.hist('Wind Direction (°)', bins=50)"
      ],
      "execution_count": 62,
      "outputs": [
        {
          "output_type": "execute_result",
          "data": {
            "text/plain": [
              "array([[<matplotlib.axes._subplots.AxesSubplot object at 0x7f15a61182b0>]],\n",
              "      dtype=object)"
            ]
          },
          "metadata": {
            "tags": []
          },
          "execution_count": 62
        },
        {
          "output_type": "display_data",
          "data": {
            "image/png": "[encoded data removed]",
            "text/plain": [
              "<Figure size 432x288 with 1 Axes>"
            ]
          },
          "metadata": {
            "tags": [],
            "needs_background": "light"
          }
        }
      ]
    },
    {
      "cell_type": "code",
      "metadata": {
        "colab": {
          "base_uri": "https://localhost:8080/",
          "height": 294
        },
        "id": "5TU7dEILN-7K",
        "outputId": "a1f59d54-8116-4ec0-fc62-a905e1333137"
      },
      "source": [
        "df.describe()"
      ],
      "execution_count": 63,
      "outputs": [
        {
          "output_type": "execute_result",
          "data": {
            "text/html": [
              "<div>\n",
              "<style scoped>\n",
              "    .dataframe tbody tr th:only-of-type {\n",
              "        vertical-align: middle;\n",
              "    }\n",
              "\n",
              "    .dataframe tbody tr th {\n",
              "        vertical-align: top;\n",
              "    }\n",
              "\n",
              "    .dataframe thead th {\n",
              "        text-align: right;\n",
              "    }\n",
              "</style>\n",
              "<table border=\"1\" class=\"dataframe\">\n",
              "  <thead>\n",
              "    <tr style=\"text-align: right;\">\n",
              "      <th></th>\n",
              "      <th>Observation Number</th>\n",
              "      <th>LV ActivePower (kW)</th>\n",
              "      <th>Wind Speed (m/s)</th>\n",
              "      <th>Theoretical_Power_Curve (KWh)</th>\n",
              "      <th>Wind Direction (°)</th>\n",
              "    </tr>\n",
              "  </thead>\n",
              "  <tbody>\n",
              "    <tr>\n",
              "      <th>count</th>\n",
              "      <td>50530.000000</td>\n",
              "      <td>50530.000000</td>\n",
              "      <td>50530.000000</td>\n",
              "      <td>50530.000000</td>\n",
              "      <td>50530.000000</td>\n",
              "    </tr>\n",
              "    <tr>\n",
              "      <th>mean</th>\n",
              "      <td>25265.500000</td>\n",
              "      <td>1307.684332</td>\n",
              "      <td>7.557952</td>\n",
              "      <td>1492.175463</td>\n",
              "      <td>123.687559</td>\n",
              "    </tr>\n",
              "    <tr>\n",
              "      <th>std</th>\n",
              "      <td>14586.898888</td>\n",
              "      <td>1312.459242</td>\n",
              "      <td>4.227166</td>\n",
              "      <td>1368.018238</td>\n",
              "      <td>93.443736</td>\n",
              "    </tr>\n",
              "    <tr>\n",
              "      <th>min</th>\n",
              "      <td>1.000000</td>\n",
              "      <td>-2.471405</td>\n",
              "      <td>0.000000</td>\n",
              "      <td>0.000000</td>\n",
              "      <td>0.000000</td>\n",
              "    </tr>\n",
              "    <tr>\n",
              "      <th>25%</th>\n",
              "      <td>12633.250000</td>\n",
              "      <td>50.677890</td>\n",
              "      <td>4.201395</td>\n",
              "      <td>161.328167</td>\n",
              "      <td>49.315437</td>\n",
              "    </tr>\n",
              "    <tr>\n",
              "      <th>50%</th>\n",
              "      <td>25265.500000</td>\n",
              "      <td>825.838074</td>\n",
              "      <td>7.104594</td>\n",
              "      <td>1063.776282</td>\n",
              "      <td>73.712978</td>\n",
              "    </tr>\n",
              "    <tr>\n",
              "      <th>75%</th>\n",
              "      <td>37897.750000</td>\n",
              "      <td>2482.507569</td>\n",
              "      <td>10.300020</td>\n",
              "      <td>2964.972462</td>\n",
              "      <td>201.696720</td>\n",
              "    </tr>\n",
              "    <tr>\n",
              "      <th>max</th>\n",
              "      <td>50530.000000</td>\n",
              "      <td>3618.732910</td>\n",
              "      <td>25.206011</td>\n",
              "      <td>3600.000000</td>\n",
              "      <td>359.997589</td>\n",
              "    </tr>\n",
              "  </tbody>\n",
              "</table>\n",
              "</div>"
            ],
            "text/plain": [
              "       Observation Number  ...  Wind Direction (°)\n",
              "count        50530.000000  ...        50530.000000\n",
              "mean         25265.500000  ...          123.687559\n",
              "std          14586.898888  ...           93.443736\n",
              "min              1.000000  ...            0.000000\n",
              "25%          12633.250000  ...           49.315437\n",
              "50%          25265.500000  ...           73.712978\n",
              "75%          37897.750000  ...          201.696720\n",
              "max          50530.000000  ...          359.997589\n",
              "\n",
              "[8 rows x 5 columns]"
            ]
          },
          "metadata": {
            "tags": []
          },
          "execution_count": 63
        }
      ]
    },
    {
      "cell_type": "markdown",
      "metadata": {
        "id": "l8wGBDW2N5wA"
      },
      "source": [
        "By looking at the histograms, it becomes pretty obvious which distributions have similar mean and median, and which are not similar.\r\n",
        "\r\n",
        "For active power column, it can be seen that largest number of measurements are between 0 Kw and therfore we cannot expect mean and median to be similar.\r\n",
        "\r\n",
        "For the Theoretical Power Column it can be observed that the distribution looks a lot like active power distribution so the result will be quite similar. Mean and median will not be similar.\r\n",
        "\r\n",
        "For the wind speed column, we can see that distribution looks a lot like a normal distribution and we can expect mean and median to be similar. \r\n",
        "\r\n",
        "Wind direction distribution looks like a bimodal distribution. The mean and median are not going to be similar at all because data is mostly focused around 2 points. \r\n",
        "\r\n",
        "Using the .describe() function makes it easy to see all the data and measurments. Data computed by the function matches the data in distributions and the data computed by columns so it confirms my hypotheses.\r\n",
        "\r\n"
      ]
    },
    {
      "cell_type": "markdown",
      "metadata": {
        "id": "00q5S9s2R1BB"
      },
      "source": [
        "### 1.4\r\n"
      ]
    },
    {
      "cell_type": "code",
      "metadata": {
        "colab": {
          "base_uri": "https://localhost:8080/",
          "height": 283
        },
        "id": "_VAAJimZqbuM",
        "outputId": "02009718-3647-48bf-8b42-fc81d0246a50"
      },
      "source": [
        "# 4.\r\n",
        "ax = df.boxplot(column=[\"Wind Speed (m/s)\"])\r\n",
        "ax.set_ylabel(\"Speed (m/s)\")"
      ],
      "execution_count": 64,
      "outputs": [
        {
          "output_type": "execute_result",
          "data": {
            "text/plain": [
              "Text(0, 0.5, 'Speed (m/s)')"
            ]
          },
          "metadata": {
            "tags": []
          },
          "execution_count": 64
        },
        {
          "output_type": "display_data",
          "data": {
            "image/png": "[encoded data removed]",
            "text/plain": [
              "<Figure size 432x288 with 1 Axes>"
            ]
          },
          "metadata": {
            "tags": [],
            "needs_background": "light"
          }
        }
      ]
    },
    {
      "cell_type": "code",
      "metadata": {
        "colab": {
          "base_uri": "https://localhost:8080/",
          "height": 283
        },
        "id": "PUvka8UGrqJb",
        "outputId": "c3fe6b94-14d8-4274-8fbd-44ae365dbbdd"
      },
      "source": [
        "ax = df.boxplot(column=['LV ActivePower (kW)'])\r\n",
        "ax.set_ylabel('Power(kW)')"
      ],
      "execution_count": 65,
      "outputs": [
        {
          "output_type": "execute_result",
          "data": {
            "text/plain": [
              "Text(0, 0.5, 'Power(kW)')"
            ]
          },
          "metadata": {
            "tags": []
          },
          "execution_count": 65
        },
        {
          "output_type": "display_data",
          "data": {
            "image/png": "[encoded data removed]",
            "text/plain": [
              "<Figure size 432x288 with 1 Axes>"
            ]
          },
          "metadata": {
            "tags": [],
            "needs_background": "light"
          }
        }
      ]
    },
    {
      "cell_type": "markdown",
      "metadata": {
        "id": "MpN92Ysl3Gfr"
      },
      "source": [
        "After plotting the boxplots, we can compare them to histograms. \r\n",
        "\r\n",
        "For Wind speed, we can see a lot of outliers, which explains why the histogram skews to the right. It can also be seen that most of the data is between 5 and 10 m/s which is evident on the histogram as well. Interquartile range is small, pretty evenly distributed, which is expected from the bell shaped curve. \r\n",
        "\r\n",
        "For the power, it can be seen from the historagm that most of the data is concentrated on the edges, and therfore there are not many outliers, also  explaining why the interquartile range is a bit wider and whiskers are shorter. \r\n",
        "It is also evident that the third quartile is a bit wider than the first, which can be predicted from the historgam, since there is more data in the smaller values in the historga."
      ]
    },
    {
      "cell_type": "markdown",
      "metadata": {
        "id": "xZzMEGADT48f"
      },
      "source": [
        "### 1.5 \r\n"
      ]
    },
    {
      "cell_type": "code",
      "metadata": {
        "id": "I-A3RZ-k-ECy"
      },
      "source": [
        "def find_month(x):\r\n",
        "    if \" 01 \" in x:\r\n",
        "        return \"Jan\"\r\n",
        "    elif \" 02 \" in x:\r\n",
        "        return \"Feb\"\r\n",
        "    elif \" 03 \" in x:\r\n",
        "        return \"March\"    \r\n",
        "    elif \" 04 \" in x:\r\n",
        "        return \"April\"    \r\n",
        "    elif \" 05 \" in x:\r\n",
        "        return \"May\"    \r\n",
        "    elif \" 06 \" in x:\r\n",
        "        return \"June\"    \r\n",
        "    elif \" 07 \" in x:\r\n",
        "        return \"July\"    \r\n",
        "    elif \" 08 \" in x:\r\n",
        "        return \"August\"    \r\n",
        "    elif \" 09 \" in x:\r\n",
        "        return \"Sep\"    \r\n",
        "    elif \" 10 \" in x:\r\n",
        "        return \"Oct\"    \r\n",
        "    elif \" 11 \" in x:\r\n",
        "        return \"Nov\"    \r\n",
        "    else:\r\n",
        "        return \"Dec\""
      ],
      "execution_count": 66,
      "outputs": []
    },
    {
      "cell_type": "code",
      "metadata": {
        "id": "AFf5uFuY-E2d"
      },
      "source": [
        "df['Month'] = df['Date/Time'].apply(find_month)"
      ],
      "execution_count": 67,
      "outputs": []
    },
    {
      "cell_type": "code",
      "metadata": {
        "colab": {
          "base_uri": "https://localhost:8080/",
          "height": 447
        },
        "id": "vHnr8MHU--ll",
        "outputId": "1a891a26-75e8-44ab-b1a2-74fb9cfb0003"
      },
      "source": [
        "df.groupby(['Month']).mean()"
      ],
      "execution_count": 68,
      "outputs": [
        {
          "output_type": "execute_result",
          "data": {
            "text/html": [
              "<div>\n",
              "<style scoped>\n",
              "    .dataframe tbody tr th:only-of-type {\n",
              "        vertical-align: middle;\n",
              "    }\n",
              "\n",
              "    .dataframe tbody tr th {\n",
              "        vertical-align: top;\n",
              "    }\n",
              "\n",
              "    .dataframe thead th {\n",
              "        text-align: right;\n",
              "    }\n",
              "</style>\n",
              "<table border=\"1\" class=\"dataframe\">\n",
              "  <thead>\n",
              "    <tr style=\"text-align: right;\">\n",
              "      <th></th>\n",
              "      <th>Observation Number</th>\n",
              "      <th>LV ActivePower (kW)</th>\n",
              "      <th>Wind Speed (m/s)</th>\n",
              "      <th>Theoretical_Power_Curve (KWh)</th>\n",
              "      <th>Wind Direction (°)</th>\n",
              "    </tr>\n",
              "    <tr>\n",
              "      <th>Month</th>\n",
              "      <th></th>\n",
              "      <th></th>\n",
              "      <th></th>\n",
              "      <th></th>\n",
              "      <th></th>\n",
              "    </tr>\n",
              "  </thead>\n",
              "  <tbody>\n",
              "    <tr>\n",
              "      <th>April</th>\n",
              "      <td>14465.0</td>\n",
              "      <td>824.358603</td>\n",
              "      <td>5.852096</td>\n",
              "      <td>955.690141</td>\n",
              "      <td>102.698848</td>\n",
              "    </tr>\n",
              "    <tr>\n",
              "      <th>August</th>\n",
              "      <td>31988.0</td>\n",
              "      <td>1978.188795</td>\n",
              "      <td>9.339899</td>\n",
              "      <td>2220.579161</td>\n",
              "      <td>52.473360</td>\n",
              "    </tr>\n",
              "    <tr>\n",
              "      <th>Dec</th>\n",
              "      <td>48307.0</td>\n",
              "      <td>1176.785881</td>\n",
              "      <td>7.357389</td>\n",
              "      <td>1424.063554</td>\n",
              "      <td>140.667803</td>\n",
              "    </tr>\n",
              "    <tr>\n",
              "      <th>Feb</th>\n",
              "      <td>5833.5</td>\n",
              "      <td>1503.355020</td>\n",
              "      <td>8.620697</td>\n",
              "      <td>1712.709958</td>\n",
              "      <td>143.353927</td>\n",
              "    </tr>\n",
              "    <tr>\n",
              "      <th>Jan</th>\n",
              "      <td>1909.0</td>\n",
              "      <td>1323.157951</td>\n",
              "      <td>8.550920</td>\n",
              "      <td>1847.287918</td>\n",
              "      <td>157.829495</td>\n",
              "    </tr>\n",
              "    <tr>\n",
              "      <th>July</th>\n",
              "      <td>27543.5</td>\n",
              "      <td>477.014298</td>\n",
              "      <td>4.950335</td>\n",
              "      <td>583.709297</td>\n",
              "      <td>120.400853</td>\n",
              "    </tr>\n",
              "    <tr>\n",
              "      <th>June</th>\n",
              "      <td>23189.0</td>\n",
              "      <td>995.490376</td>\n",
              "      <td>6.342205</td>\n",
              "      <td>1139.291376</td>\n",
              "      <td>130.566252</td>\n",
              "    </tr>\n",
              "    <tr>\n",
              "      <th>March</th>\n",
              "      <td>10081.0</td>\n",
              "      <td>1952.405766</td>\n",
              "      <td>9.734390</td>\n",
              "      <td>2075.819877</td>\n",
              "      <td>190.378235</td>\n",
              "    </tr>\n",
              "    <tr>\n",
              "      <th>May</th>\n",
              "      <td>18842.0</td>\n",
              "      <td>836.941996</td>\n",
              "      <td>5.859028</td>\n",
              "      <td>960.203607</td>\n",
              "      <td>136.501579</td>\n",
              "    </tr>\n",
              "    <tr>\n",
              "      <th>Nov</th>\n",
              "      <td>44183.5</td>\n",
              "      <td>1886.693868</td>\n",
              "      <td>9.373864</td>\n",
              "      <td>2030.027723</td>\n",
              "      <td>101.102801</td>\n",
              "    </tr>\n",
              "    <tr>\n",
              "      <th>Oct</th>\n",
              "      <td>40242.0</td>\n",
              "      <td>1408.274877</td>\n",
              "      <td>7.538289</td>\n",
              "      <td>1534.185219</td>\n",
              "      <td>108.738023</td>\n",
              "    </tr>\n",
              "    <tr>\n",
              "      <th>Sep</th>\n",
              "      <td>36200.5</td>\n",
              "      <td>1429.484639</td>\n",
              "      <td>7.583327</td>\n",
              "      <td>1553.319599</td>\n",
              "      <td>98.196628</td>\n",
              "    </tr>\n",
              "  </tbody>\n",
              "</table>\n",
              "</div>"
            ],
            "text/plain": [
              "        Observation Number  ...  Wind Direction (°)\n",
              "Month                       ...                    \n",
              "April              14465.0  ...          102.698848\n",
              "August             31988.0  ...           52.473360\n",
              "Dec                48307.0  ...          140.667803\n",
              "Feb                 5833.5  ...          143.353927\n",
              "Jan                 1909.0  ...          157.829495\n",
              "July               27543.5  ...          120.400853\n",
              "June               23189.0  ...          130.566252\n",
              "March              10081.0  ...          190.378235\n",
              "May                18842.0  ...          136.501579\n",
              "Nov                44183.5  ...          101.102801\n",
              "Oct                40242.0  ...          108.738023\n",
              "Sep                36200.5  ...           98.196628\n",
              "\n",
              "[12 rows x 5 columns]"
            ]
          },
          "metadata": {
            "tags": []
          },
          "execution_count": 68
        }
      ]
    },
    {
      "cell_type": "markdown",
      "metadata": {
        "id": "BrcpqsjuBr_C"
      },
      "source": [
        "Using the groupby function provided us with details grouped by months.\r\n",
        "\r\n",
        "Highest average wind speed was in March, and the highest average power output was achived in December."
      ]
    },
    {
      "cell_type": "markdown",
      "metadata": {
        "id": "308cHkfxu7dx"
      },
      "source": [
        "## Part 2 - Correlation\r\n"
      ]
    },
    {
      "cell_type": "markdown",
      "metadata": {
        "id": "M9R4rfF34Qxc"
      },
      "source": [
        "#### 2.1\r\n",
        "In both cases Wind is the independent variable, the power is derived from the wind speed and direction and therfore depends on it which makes it a dependent variable.\r\n",
        "That is why we graph it on the y axis.\r\n",
        "\r\n",
        "The direction of the wind doesn't tell us a lot when plotted along with power, but higher wind speeds lead to bigger power generation."
      ]
    },
    {
      "cell_type": "code",
      "metadata": {
        "id": "By9_2ONau9sn",
        "colab": {
          "base_uri": "https://localhost:8080/",
          "height": 313
        },
        "outputId": "6ba13c3b-1ec8-4564-ac02-d369ee527c47"
      },
      "source": [
        "# Wind speed in independent\r\n",
        "y = df['Theoretical_Power_Curve (KWh)']\r\n",
        "x = df['Wind Speed (m/s)']\r\n",
        "plt.scatter(x,y)\r\n",
        "plt.title(\"Wind speed and Theoretical Power Curve\")\r\n",
        "plt.ylabel('Theoretical Power Curve')\r\n",
        "plt.xlabel('Wind Speed')"
      ],
      "execution_count": 69,
      "outputs": [
        {
          "output_type": "execute_result",
          "data": {
            "text/plain": [
              "Text(0.5, 0, 'Wind Speed')"
            ]
          },
          "metadata": {
            "tags": []
          },
          "execution_count": 69
        },
        {
          "output_type": "display_data",
          "data": {
            "image/png": "[encoded data removed]",
            "text/plain": [
              "<Figure size 432x288 with 1 Axes>"
            ]
          },
          "metadata": {
            "tags": [],
            "needs_background": "light"
          }
        }
      ]
    },
    {
      "cell_type": "code",
      "metadata": {
        "id": "guEgkK3rvq1Q",
        "colab": {
          "base_uri": "https://localhost:8080/",
          "height": 313
        },
        "outputId": "4e31727c-4d17-446f-f278-143d5e2001b5"
      },
      "source": [
        "y = df['Theoretical_Power_Curve (KWh)']\r\n",
        "x = df['Wind Direction (°)']\r\n",
        "plt.scatter(x,y)\r\n",
        "plt.title(\"Theoretical Power Curve and Wind Direction\")\r\n",
        "plt.ylabel('Theoretical Power Curve')\r\n",
        "plt.xlabel('Wind Direction')"
      ],
      "execution_count": 70,
      "outputs": [
        {
          "output_type": "execute_result",
          "data": {
            "text/plain": [
              "Text(0.5, 0, 'Wind Direction')"
            ]
          },
          "metadata": {
            "tags": []
          },
          "execution_count": 70
        },
        {
          "output_type": "display_data",
          "data": {
            "image/png": "[encoded data removed]",
            "text/plain": [
              "<Figure size 432x288 with 1 Axes>"
            ]
          },
          "metadata": {
            "tags": [],
            "needs_background": "light"
          }
        }
      ]
    },
    {
      "cell_type": "markdown",
      "metadata": {
        "id": "0bbUoiWu46To"
      },
      "source": [
        "#### 2.2\r\n",
        "\r\n",
        "The graphs look pretty similar to the previous ones, with one of the biggest differences in the Winds speed and Actual Power Graph, where the data is more scattered. This shows that wind speed doesn't necessarily mean bigger power, which isn't the case in the graph from 2.1.\r\n",
        "\r\n",
        "The second graph is almost the same to the previous one. Since data is very scattered it is almost impossible to draw conclusions from this graph."
      ]
    },
    {
      "cell_type": "code",
      "metadata": {
        "colab": {
          "base_uri": "https://localhost:8080/",
          "height": 313
        },
        "id": "FWrK4Tpt5Ts8",
        "outputId": "87298981-5ff2-4408-9f80-c07b268257d1"
      },
      "source": [
        "y = df['LV ActivePower (kW)']\r\n",
        "x = df['Wind Speed (m/s)']\r\n",
        "plt.scatter(x,y)\r\n",
        "plt.title(\"Wind speed and Actual Power \")\r\n",
        "plt.ylabel('Actual Power')\r\n",
        "plt.xlabel('Wind Speed')"
      ],
      "execution_count": 71,
      "outputs": [
        {
          "output_type": "execute_result",
          "data": {
            "text/plain": [
              "Text(0.5, 0, 'Wind Speed')"
            ]
          },
          "metadata": {
            "tags": []
          },
          "execution_count": 71
        },
        {
          "output_type": "display_data",
          "data": {
            "image/png": "[encoded data removed]",
            "text/plain": [
              "<Figure size 432x288 with 1 Axes>"
            ]
          },
          "metadata": {
            "tags": [],
            "needs_background": "light"
          }
        }
      ]
    },
    {
      "cell_type": "code",
      "metadata": {
        "colab": {
          "base_uri": "https://localhost:8080/",
          "height": 313
        },
        "id": "qN3OPXpcfyym",
        "outputId": "ce4d5ad3-1a40-4f9e-9bdc-a4fcc9e1adf4"
      },
      "source": [
        "y = df['LV ActivePower (kW)']\r\n",
        "x = df['Wind Direction (°)']\r\n",
        "plt.scatter(x,y)\r\n",
        "plt.title(\"Active Power Curve and Wind Direction\")\r\n",
        "plt.ylabel('Active Power Curve')\r\n",
        "plt.xlabel('Wind Direction')"
      ],
      "execution_count": 79,
      "outputs": [
        {
          "output_type": "execute_result",
          "data": {
            "text/plain": [
              "Text(0.5, 0, 'Wind Direction')"
            ]
          },
          "metadata": {
            "tags": []
          },
          "execution_count": 79
        },
        {
          "output_type": "display_data",
          "data": {
            "image/png": "[encoded data removed]",
            "text/plain": [
              "<Figure size 432x288 with 1 Axes>"
            ]
          },
          "metadata": {
            "tags": [],
            "needs_background": "light"
          }
        }
      ]
    },
    {
      "cell_type": "markdown",
      "metadata": {
        "id": "vZUfcnBl7Tar"
      },
      "source": [
        "#### 3.1"
      ]
    },
    {
      "cell_type": "code",
      "metadata": {
        "colab": {
          "base_uri": "https://localhost:8080/",
          "height": 202
        },
        "id": "C8LDMH-W6i5X",
        "outputId": "82528aa5-72a4-4825-d78c-148db20d3564"
      },
      "source": [
        "# 3. correlation table\r\n",
        "df.corr()"
      ],
      "execution_count": 73,
      "outputs": [
        {
          "output_type": "execute_result",
          "data": {
            "text/html": [
              "<div>\n",
              "<style scoped>\n",
              "    .dataframe tbody tr th:only-of-type {\n",
              "        vertical-align: middle;\n",
              "    }\n",
              "\n",
              "    .dataframe tbody tr th {\n",
              "        vertical-align: top;\n",
              "    }\n",
              "\n",
              "    .dataframe thead th {\n",
              "        text-align: right;\n",
              "    }\n",
              "</style>\n",
              "<table border=\"1\" class=\"dataframe\">\n",
              "  <thead>\n",
              "    <tr style=\"text-align: right;\">\n",
              "      <th></th>\n",
              "      <th>Observation Number</th>\n",
              "      <th>LV ActivePower (kW)</th>\n",
              "      <th>Wind Speed (m/s)</th>\n",
              "      <th>Theoretical_Power_Curve (KWh)</th>\n",
              "      <th>Wind Direction (°)</th>\n",
              "    </tr>\n",
              "  </thead>\n",
              "  <tbody>\n",
              "    <tr>\n",
              "      <th>Observation Number</th>\n",
              "      <td>1.000000</td>\n",
              "      <td>0.029917</td>\n",
              "      <td>-0.013854</td>\n",
              "      <td>0.006009</td>\n",
              "      <td>-0.183999</td>\n",
              "    </tr>\n",
              "    <tr>\n",
              "      <th>LV ActivePower (kW)</th>\n",
              "      <td>0.029917</td>\n",
              "      <td>1.000000</td>\n",
              "      <td>0.912774</td>\n",
              "      <td>0.949918</td>\n",
              "      <td>-0.062702</td>\n",
              "    </tr>\n",
              "    <tr>\n",
              "      <th>Wind Speed (m/s)</th>\n",
              "      <td>-0.013854</td>\n",
              "      <td>0.912774</td>\n",
              "      <td>1.000000</td>\n",
              "      <td>0.944209</td>\n",
              "      <td>-0.077188</td>\n",
              "    </tr>\n",
              "    <tr>\n",
              "      <th>Theoretical_Power_Curve (KWh)</th>\n",
              "      <td>0.006009</td>\n",
              "      <td>0.949918</td>\n",
              "      <td>0.944209</td>\n",
              "      <td>1.000000</td>\n",
              "      <td>-0.099076</td>\n",
              "    </tr>\n",
              "    <tr>\n",
              "      <th>Wind Direction (°)</th>\n",
              "      <td>-0.183999</td>\n",
              "      <td>-0.062702</td>\n",
              "      <td>-0.077188</td>\n",
              "      <td>-0.099076</td>\n",
              "      <td>1.000000</td>\n",
              "    </tr>\n",
              "  </tbody>\n",
              "</table>\n",
              "</div>"
            ],
            "text/plain": [
              "                               Observation Number  ...  Wind Direction (°)\n",
              "Observation Number                       1.000000  ...           -0.183999\n",
              "LV ActivePower (kW)                      0.029917  ...           -0.062702\n",
              "Wind Speed (m/s)                        -0.013854  ...           -0.077188\n",
              "Theoretical_Power_Curve (KWh)            0.006009  ...           -0.099076\n",
              "Wind Direction (°)                      -0.183999  ...            1.000000\n",
              "\n",
              "[5 rows x 5 columns]"
            ]
          },
          "metadata": {
            "tags": []
          },
          "execution_count": 73
        }
      ]
    },
    {
      "cell_type": "markdown",
      "metadata": {
        "id": "6vyPxbGp7kow"
      },
      "source": [
        "The correlation table is shown above. \r\n",
        "\r\n",
        "a) wind speed and theoretical power curve\r\n",
        "\r\n",
        "The wind speed and theoretical power curve are higly positevely correlated, which is shown in the scatter plot, as well as in the table.\r\n",
        "\r\n",
        "\r\n",
        "b) wind direction ann theoretical power curve\r\n",
        "\r\n",
        "Wind direction and theoretical power curve are not correlated and that is shown in the scatter plot as well. The data in the scatter plot is indeed scattered.\r\n",
        "\r\n",
        "\r\n",
        "c) wind speed and actual power curve \r\n",
        "\r\n",
        "The wind speed and the actual power curve are highly positevely correlated, but the correlation is smaller than in the example a) which matches the observation collected from the scatter plot.\r\n",
        "\r\n",
        "\r\n",
        "d) wind direction and actual power curve \r\n",
        "\r\n",
        "Wind direction and theoretical power curve are not correlated and that is shown in the scatter plot as well. The data in the scatter plot is indeed scattered.\r\n",
        "\r\n",
        "\r\n",
        "\r\n"
      ]
    },
    {
      "cell_type": "markdown",
      "metadata": {
        "id": "oNarwJI69WjI"
      },
      "source": [
        "Data collected from the table shows strong positive correlation between theoretical and actual power, which makes sense because actual power should be as close as possible to the theoretical power. In reality, it is very hard to achive theoretical power because outside factors exist."
      ]
    },
    {
      "cell_type": "markdown",
      "metadata": {
        "id": "GmfO3S60-b-N"
      },
      "source": [
        "## Part 3 - Feature analasys and Interpretation"
      ]
    },
    {
      "cell_type": "markdown",
      "metadata": {
        "id": "Ur7jTFzA-lOp"
      },
      "source": [
        "#### 3.1\r\n",
        "\r\n",
        "The Loss represents the differenc ebetween the theoretical and real power and can be used to analyze wheter the system works good. If a lot of readings show a big loss, the issue must be examined since that is unusual. \r\n",
        "Power produced in the turbines is expected to vary compared to the theoretical data, and can be used to examine the technologies used. "
      ]
    },
    {
      "cell_type": "code",
      "metadata": {
        "id": "KOob2gVW9uSP"
      },
      "source": [
        "# adding a Loss column\r\n",
        "df[\"Loss\"] = df[\"Theoretical_Power_Curve (KWh)\"] - df[\"LV ActivePower (kW)\"]"
      ],
      "execution_count": 74,
      "outputs": []
    },
    {
      "cell_type": "code",
      "metadata": {
        "id": "O0fcrxPG-6QU"
      },
      "source": [
        "# adding a Loss percentage column\r\n",
        "df[\"Loss Percentage %\"] = (df[\"Loss\"] / df[\"Theoretical_Power_Curve (KWh)\"]) * 100"
      ],
      "execution_count": 75,
      "outputs": []
    },
    {
      "cell_type": "code",
      "metadata": {
        "id": "jUagoIewdj07"
      },
      "source": [
        "# ckecking the column\r\n",
        "df[\"Loss Percentage %\"].tolist()"
      ],
      "execution_count": null,
      "outputs": []
    },
    {
      "cell_type": "markdown",
      "metadata": {
        "id": "EKNpvCB4C1YQ"
      },
      "source": [
        "#### 3.2"
      ]
    },
    {
      "cell_type": "markdown",
      "metadata": {
        "id": "-kgopAh3h594"
      },
      "source": [
        "Wind speed generates bigger losses at bigger speeds, but at a smaller speeds we cannot reach the conclusion since some of the readings read that actual Power was bigger than theoretical. \r\n",
        "\r\n",
        "Losses seem to be negative in some cases of lower speeds which is interesting. That means that at lower speeds turbines produce more power than expected, which is not the case after the speed reached approximately 13 m/s. "
      ]
    },
    {
      "cell_type": "code",
      "metadata": {
        "id": "ai6movckC3V0",
        "colab": {
          "base_uri": "https://localhost:8080/",
          "height": 313
        },
        "outputId": "e9275d0c-dd4f-4a5d-8c32-6b092ba343aa"
      },
      "source": [
        "# wind speed is independent\r\n",
        "y = df['Loss']\r\n",
        "x = df['Wind Speed (m/s)']\r\n",
        "plt.scatter(x,y)\r\n",
        "plt.title(\"Loss and Wind Speed\")\r\n",
        "plt.ylabel('Loss')\r\n",
        "plt.xlabel('Wind Speed')"
      ],
      "execution_count": 77,
      "outputs": [
        {
          "output_type": "execute_result",
          "data": {
            "text/plain": [
              "Text(0.5, 0, 'Wind Speed')"
            ]
          },
          "metadata": {
            "tags": []
          },
          "execution_count": 77
        },
        {
          "output_type": "display_data",
          "data": {
            "image/png": "[encoded data removed]",
            "text/plain": [
              "<Figure size 432x288 with 1 Axes>"
            ]
          },
          "metadata": {
            "tags": [],
            "needs_background": "light"
          }
        }
      ]
    },
    {
      "cell_type": "code",
      "metadata": {
        "id": "VUfKFSFEDU3b",
        "colab": {
          "base_uri": "https://localhost:8080/",
          "height": 313
        },
        "outputId": "3f89bc75-9617-4787-c5fe-d67169acd600"
      },
      "source": [
        "# wind speed is independent\r\n",
        "y = df['Loss Percentage %']\r\n",
        "x = df['Wind Speed (m/s)']\r\n",
        "plt.scatter(x,y)\r\n",
        "plt.title(\"Loss and Wind Speed\")\r\n",
        "plt.ylabel('Loss Percentage')\r\n",
        "plt.xlabel('Wind Speed')"
      ],
      "execution_count": 78,
      "outputs": [
        {
          "output_type": "execute_result",
          "data": {
            "text/plain": [
              "Text(0.5, 0, 'Wind Speed')"
            ]
          },
          "metadata": {
            "tags": []
          },
          "execution_count": 78
        },
        {
          "output_type": "display_data",
          "data": {
            "image/png": "[encoded data removed]",
            "text/plain": [
              "<Figure size 432x288 with 1 Axes>"
            ]
          },
          "metadata": {
            "tags": [],
            "needs_background": "light"
          }
        }
      ]
    },
    {
      "cell_type": "markdown",
      "metadata": {
        "id": "VAmmqYm3nDyK"
      },
      "source": [
        "#### 3.3\r\n",
        "\r\n",
        "The losses can be created for many reasons and don't have to be accurate. This can happen for various reasons like redundancy, inaccuracy, lack of data, etc.\r\n",
        "\r\n",
        "There will certainly be electrical losses experienced between the low voltage terminals of each of the wind turbines and the wind farm point of connection. It is also important to consider the power that wind farm consumes when they are not operational. \r\n",
        " \r\n",
        "Also, wind turbines cannot spin infiately fast, and will shut down if the wind exceeds a certain limit. This may cause energy losses and difference between the measurments. In this case potential power curve should be estimated accordingly to solve the issue.\r\n",
        "\r\n",
        "In certain conditions dirt might form on the blades, or blades mights degrade which is not included in the measures for theoretical power produced. This is resolved by checking the blades regulary.\r\n",
        "\r\n",
        "Also, I would like to note that there is a high chance on measurment bias, because the data isn't collected at the exact same place where the turbine is.\r\n",
        "\r\n",
        "\r\n",
        "There might also be issues with measuring data since electronic parts are very sensitive. "
      ]
    }
  ]
}